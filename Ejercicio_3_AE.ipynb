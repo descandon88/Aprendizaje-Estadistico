{
  "nbformat": 4,
  "nbformat_minor": 0,
  "metadata": {
    "colab": {
      "name": "Ejercicio 3_AE.ipynb",
      "provenance": [],
      "authorship_tag": "ABX9TyOlITPGs/kWZSPKOYaSE+nR",
      "include_colab_link": true
    },
    "kernelspec": {
      "name": "python3",
      "display_name": "Python 3"
    },
    "language_info": {
      "name": "python"
    }
  },
  "cells": [
    {
      "cell_type": "markdown",
      "metadata": {
        "id": "view-in-github",
        "colab_type": "text"
      },
      "source": [
        "<a href=\"https://colab.research.google.com/github/descandon88/Aprendizaje-Estadistico/blob/main/Ejercicio_3_AE.ipynb\" target=\"_parent\"><img src=\"https://colab.research.google.com/assets/colab-badge.svg\" alt=\"Open In Colab\"/></a>"
      ]
    },
    {
      "cell_type": "code",
      "metadata": {
        "id": "FDDdhf5Gsl8q"
      },
      "source": [
        "import pandas as pd\n",
        "import numpy as np\n",
        "import matplotlib.pyplot as plt\n",
        "plt.style.use(\"seaborn\")"
      ],
      "execution_count": 9,
      "outputs": []
    },
    {
      "cell_type": "markdown",
      "metadata": {
        "id": "HuU8n2HlucYf"
      },
      "source": [
        "# **Definición de Funciones**"
      ]
    },
    {
      "cell_type": "code",
      "metadata": {
        "id": "gLxtAaxjt24X"
      },
      "source": [
        "def probabilidad(n):\n",
        "  return (1-1/n)**n"
      ],
      "execution_count": 5,
      "outputs": []
    },
    {
      "cell_type": "code",
      "metadata": {
        "colab": {
          "base_uri": "https://localhost:8080/"
        },
        "id": "da0aQBTpAEQj",
        "outputId": "d64f6ba8-e585-4a29-d7cd-374c4cc0fd14"
      },
      "source": [
        "probabilidad(100)"
      ],
      "execution_count": 90,
      "outputs": [
        {
          "output_type": "execute_result",
          "data": {
            "text/plain": [
              "0.3660323412732292"
            ]
          },
          "metadata": {
            "tags": []
          },
          "execution_count": 90
        }
      ]
    },
    {
      "cell_type": "code",
      "metadata": {
        "id": "XVdy_34Y5Kae"
      },
      "source": [
        "def secuencia(n,probabilidad):\n",
        "  tp=[]\n",
        "  i=1\n",
        "  for i in range(n):\n",
        "    tp.append({\"n_observaciones\": i+1, \"secuencia_probabilidad\": 1-probabilidad(i+1)})\n",
        "    #print(probabilidad(n)) \n",
        "  return pd.DataFrame(tp)  "
      ],
      "execution_count": 105,
      "outputs": []
    },
    {
      "cell_type": "code",
      "metadata": {
        "colab": {
          "base_uri": "https://localhost:8080/",
          "height": 230
        },
        "id": "bZvAOtZy-ZQM",
        "outputId": "96722a2e-9889-41bb-bc92-895b11198f55"
      },
      "source": [
        "df= secuencia(100,probabilidad)\n",
        "df.tail(6)"
      ],
      "execution_count": 133,
      "outputs": [
        {
          "output_type": "execute_result",
          "data": {
            "text/html": [
              "<div>\n",
              "<style scoped>\n",
              "    .dataframe tbody tr th:only-of-type {\n",
              "        vertical-align: middle;\n",
              "    }\n",
              "\n",
              "    .dataframe tbody tr th {\n",
              "        vertical-align: top;\n",
              "    }\n",
              "\n",
              "    .dataframe thead th {\n",
              "        text-align: right;\n",
              "    }\n",
              "</style>\n",
              "<table border=\"1\" class=\"dataframe\">\n",
              "  <thead>\n",
              "    <tr style=\"text-align: right;\">\n",
              "      <th></th>\n",
              "      <th>n_observaciones</th>\n",
              "      <th>secuencia_probabilidad</th>\n",
              "    </tr>\n",
              "  </thead>\n",
              "  <tbody>\n",
              "    <tr>\n",
              "      <th>94</th>\n",
              "      <td>95</td>\n",
              "      <td>0.634065</td>\n",
              "    </tr>\n",
              "    <tr>\n",
              "      <th>95</th>\n",
              "      <td>96</td>\n",
              "      <td>0.634045</td>\n",
              "    </tr>\n",
              "    <tr>\n",
              "      <th>96</th>\n",
              "      <td>97</td>\n",
              "      <td>0.634025</td>\n",
              "    </tr>\n",
              "    <tr>\n",
              "      <th>97</th>\n",
              "      <td>98</td>\n",
              "      <td>0.634006</td>\n",
              "    </tr>\n",
              "    <tr>\n",
              "      <th>98</th>\n",
              "      <td>99</td>\n",
              "      <td>0.633986</td>\n",
              "    </tr>\n",
              "    <tr>\n",
              "      <th>99</th>\n",
              "      <td>100</td>\n",
              "      <td>0.633968</td>\n",
              "    </tr>\n",
              "  </tbody>\n",
              "</table>\n",
              "</div>"
            ],
            "text/plain": [
              "    n_observaciones  secuencia_probabilidad\n",
              "94               95                0.634065\n",
              "95               96                0.634045\n",
              "96               97                0.634025\n",
              "97               98                0.634006\n",
              "98               99                0.633986\n",
              "99              100                0.633968"
            ]
          },
          "metadata": {
            "tags": []
          },
          "execution_count": 133
        }
      ]
    },
    {
      "cell_type": "code",
      "metadata": {
        "id": "xQj2Xzpj7f39"
      },
      "source": [
        "def graph(n,probabilidad):\n",
        "  tp=[]\n",
        "  i=0\n",
        "  for i in range(n):\n",
        "   prob_sec= 1-probabilidad(i+1)\n",
        "   plt.figure(figsize=(11, 8))\n",
        "   plt.plot(i+1, prob_sec, marker='^')\n",
        "   #plt.plot(i+1, prob_sec, color='red')\n",
        "  plt.show()\n"
      ],
      "execution_count": 129,
      "outputs": []
    },
    {
      "cell_type": "code",
      "metadata": {
        "id": "ar7bG1hAC1jH"
      },
      "source": [
        ""
      ],
      "execution_count": 130,
      "outputs": []
    },
    {
      "cell_type": "markdown",
      "metadata": {
        "id": "0xmI5uSLBqKB"
      },
      "source": [
        "# **Gráfica de la secuencia de Probabilidad acorde al tamaño de la muestra**"
      ]
    },
    {
      "cell_type": "code",
      "metadata": {
        "id": "gq1aReNkuf3i"
      },
      "source": [
        "def gen_graph(size_max):\n",
        "  size= np.arange(size_max, dtype=float)\n",
        "  prob_sec = [1 - probabilidad(n+1) for n in size]\n",
        "  plt.figure(figsize=(11, 8))\n",
        "  plt.plot(size, prob_sec, marker='^')\n",
        "  plt.plot(size, prob_sec, color='red')\n",
        "  plt.title('Secuencia de Probabilidad')\n",
        "  plt.xlabel('Tamaño de la Muestra')\n",
        "  plt.ylabel('Probabilidad del j-esimo observación es en bootstrap');"
      ],
      "execution_count": 112,
      "outputs": []
    },
    {
      "cell_type": "code",
      "metadata": {
        "colab": {
          "base_uri": "https://localhost:8080/",
          "height": 512
        },
        "id": "0-MLDhlTuKoz",
        "outputId": "87215b6f-d1b5-492a-a3a5-9e024cadb3bd"
      },
      "source": [
        "gen_graph(100)"
      ],
      "execution_count": 114,
      "outputs": [
        {
          "output_type": "display_data",
          "data": {
            "image/png": "[encoded data removed]",
            "text/plain": [
              "<Figure size 792x576 with 1 Axes>"
            ]
          },
          "metadata": {
            "tags": []
          }
        }
      ]
    },
    {
      "cell_type": "code",
      "metadata": {
        "id": "Oe5u5MhD5zhc"
      },
      "source": [
        ""
      ],
      "execution_count": 107,
      "outputs": []
    }
  ]
}